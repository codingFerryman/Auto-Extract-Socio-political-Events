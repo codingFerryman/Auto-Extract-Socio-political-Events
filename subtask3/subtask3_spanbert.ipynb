{
 "cells": [
  {
   "cell_type": "code",
   "execution_count": 2,
   "metadata": {
    "collapsed": true
   },
   "outputs": [],
   "source": [
    "import json\n",
    "import random\n",
    "\n",
    "from collections import Counter\n",
    "\n",
    "from allennlp.predictors.predictor import Predictor\n",
    "\n",
    "# from utils import sent_to_conll10"
   ]
  },
  {
   "cell_type": "code",
   "execution_count": 3,
   "outputs": [
    {
     "data": {
      "text/plain": "Downloading https://raw.githubusercontent.com/stanfordnlp/stanza-resources/main/resources_1.2.1.json:   0%|   …",
      "application/vnd.jupyter.widget-view+json": {
       "version_major": 2,
       "version_minor": 0,
       "model_id": "abe7814d146d4b3caf6b4fe92f65d8f1"
      }
     },
     "metadata": {},
     "output_type": "display_data"
    },
    {
     "name": "stderr",
     "output_type": "stream",
     "text": [
      "2021-06-28 09:32:53 INFO: Downloading default packages for language: en (English)...\n",
      "2021-06-28 09:32:54 INFO: File exists: /home/he/stanza_resources/en/default.zip.\n",
      "2021-06-28 09:32:57 INFO: Finished downloading models and saved to /home/he/stanza_resources.\n",
      "2021-06-28 09:32:57 INFO: Loading these models for language: en (English):\n",
      "=========================\n",
      "| Processor | Package   |\n",
      "-------------------------\n",
      "| tokenize  | combined  |\n",
      "| pos       | combined  |\n",
      "| lemma     | combined  |\n",
      "| depparse  | combined  |\n",
      "| sentiment | sstplus   |\n",
      "| ner       | ontonotes |\n",
      "=========================\n",
      "\n",
      "2021-06-28 09:33:00 INFO: Use device: cpu\n",
      "2021-06-28 09:33:00 INFO: Loading: tokenize\n",
      "2021-06-28 09:33:00 INFO: Loading: pos\n",
      "2021-06-28 09:33:00 INFO: Loading: lemma\n",
      "2021-06-28 09:33:00 INFO: Loading: depparse\n",
      "2021-06-28 09:33:00 INFO: Loading: sentiment\n",
      "2021-06-28 09:33:00 INFO: Loading: ner\n",
      "2021-06-28 09:33:01 INFO: Done loading processors!\n",
      "Some weights of BertModel were not initialized from the model checkpoint at SpanBERT/spanbert-large-cased and are newly initialized: ['bert.pooler.dense.weight', 'bert.pooler.dense.bias']\n",
      "You should probably TRAIN this model on a down-stream task to be able to use it for predictions and inference.\n"
     ]
    }
   ],
   "source": [
    "model_url = \"https://storage.googleapis.com/allennlp-public-models/coref-spanbert-large-2021.03.10.tar.gz\"\n",
    "predictor = Predictor.from_path(model_url)"
   ],
   "metadata": {
    "collapsed": false,
    "pycharm": {
     "name": "#%%\n"
    }
   }
  },
  {
   "cell_type": "code",
   "execution_count": 4,
   "outputs": [],
   "source": [
    "with open(\"./data/subtask3-coreference/en-train.json\") as fp:\n",
    "    entries = fp.readlines()"
   ],
   "metadata": {
    "collapsed": false,
    "pycharm": {
     "name": "#%%\n"
    }
   }
  },
  {
   "cell_type": "code",
   "execution_count": 5,
   "outputs": [],
   "source": [
    "data = []\n",
    "for entry in entries:\n",
    "    data.append(json.loads(entry))"
   ],
   "metadata": {
    "collapsed": false,
    "pycharm": {
     "name": "#%%\n"
    }
   }
  },
  {
   "cell_type": "code",
   "execution_count": 6,
   "outputs": [
    {
     "name": "stdout",
     "output_type": "stream",
     "text": [
      "Examples in the dataset:\n"
     ]
    },
    {
     "data": {
      "text/plain": "[{'event_clusters': [[12, 13], [3, 14]],\n  'sentence_no': [3, 12, 13, 14],\n  'sentences': ['The PLGA week coincides with the 48 - hour bandh call by the Maoists protesting the killing of Kishenji .',\n   'Though rebels frequent the villages including Karada , Ranaba and Indragada , this is for the first time that posters exhorting the villagers to participate in the PLGA week have been found at several places in the block .',\n   'The posters have warned them against joining the police and army and threatened to take up such cases in the praja court .',\n   'With PLGA week coinciding with the two-day bandh call from December 4 , protesting the killing of Kishenji , the villagers apprehend'],\n  'id': 55456},\n {'event_clusters': [[1, 13, 14, 19, 23, 25]],\n  'sentence_no': [1, 13, 14, 19, 23, 25],\n  'sentences': [\"Two men who confessed to being involved in the murder of ANC North West official Obuti Chika were tortured by police , the Klerksdorp Magistrate 's Court heard on Tuesday .\",\n   'Prosecutor Riekie Krause said on Monday that Sekhakhane had confessed to killing Chika and had led police to his gun .',\n   'Forensics had later matched the bullets which killed Chika to this gun .',\n   'Chika , 33 , was shot at point-blank range in the driveway of his Klerksdorp home on December 14 .',\n   \"He denied that the men had attended any meetings where Chika 's murder was discussed .\",\n   \"The mayor 's assassination was discussed at one meeting between the accused .\"],\n  'id': 55030}]"
     },
     "execution_count": 6,
     "metadata": {},
     "output_type": "execute_result"
    }
   ],
   "source": [
    "print(\"Examples in the dataset:\")\n",
    "random.sample(data, 2)"
   ],
   "metadata": {
    "collapsed": false,
    "pycharm": {
     "name": "#%%\n"
    }
   }
  },
  {
   "cell_type": "code",
   "execution_count": 7,
   "outputs": [
    {
     "name": "stdout",
     "output_type": "stream",
     "text": [
      "Number of entries\n"
     ]
    },
    {
     "data": {
      "text/plain": "596"
     },
     "execution_count": 7,
     "metadata": {},
     "output_type": "execute_result"
    }
   ],
   "source": [
    "print(\"Number of entries\")\n",
    "len(data)"
   ],
   "metadata": {
    "collapsed": false,
    "pycharm": {
     "name": "#%%\n"
    }
   }
  },
  {
   "cell_type": "code",
   "execution_count": 8,
   "outputs": [],
   "source": [
    "sentence_no_list = []\n",
    "event_clusters_list = []\n",
    "\n",
    "for d in data:\n",
    "    sentence_no_list += d['sentence_no']\n",
    "    event_clusters_list += d['event_clusters']"
   ],
   "metadata": {
    "collapsed": false,
    "pycharm": {
     "name": "#%%\n"
    }
   }
  },
  {
   "cell_type": "code",
   "execution_count": 9,
   "outputs": [],
   "source": [
    "# genre_list = list(set(sentence_no_list))\n",
    "# model_name = \"spanbert_base\""
   ],
   "metadata": {
    "collapsed": false,
    "pycharm": {
     "name": "#%%\n"
    }
   }
  },
  {
   "cell_type": "code",
   "execution_count": 10,
   "outputs": [],
   "source": [
    "prediction = predictor.predict(document='\\t'.join(data[0]['sentences']))"
   ],
   "metadata": {
    "collapsed": false,
    "pycharm": {
     "name": "#%%\n"
    }
   }
  },
  {
   "cell_type": "code",
   "execution_count": 11,
   "outputs": [],
   "source": [
    "def my_prediction(data_entry):\n",
    "    sentences = data_entry['sentences']\n",
    "    sentences_no_mark = []\n",
    "    for no, sent in enumerate(sentences):\n",
    "        # _len = len(sent.split(' '))\n",
    "        _id = data_entry['sentence_no'][no]\n",
    "        # _mark = [_id]*_len\n",
    "        # _mark.append('<SEP>')\n",
    "        # sentences_no_mark += _mark\n",
    "\n",
    "    _pred = predictor.predict(document='\\n'.join(sentences))\n",
    "    _clusters = _pred['clusters']\n",
    "    _docu = _pred['document']\n",
    "    _idx = 0\n",
    "    for _w in _docu:\n",
    "        if _w != '\\n':\n",
    "            sentences_no_mark.append(data_entry['sentence_no'][_idx])\n",
    "        else:\n",
    "            _idx += 1\n",
    "            sentences_no_mark.append('<SEP>')\n",
    "\n",
    "    _sent_clusters = []\n",
    "    _sent_clusters_words = []\n",
    "    for cs in _clusters:\n",
    "        _sent_cluster = []\n",
    "        _sent_cluster_words = []\n",
    "        for c in cs:\n",
    "            _sent_cluster.append(sentences_no_mark[c[0]])\n",
    "            if c[0] == c[1]:\n",
    "                _sent_cluster_words.append(_docu[c[0]])\n",
    "            else:\n",
    "                _sent_cluster_words.append(' '.join(_docu[c[0]:c[1]+1]))\n",
    "        # _sent_cluster = sorted(list(set(_sent_cluster)))\n",
    "        _sent_clusters.append(_sent_cluster)\n",
    "        _sent_clusters_words.append(_sent_cluster_words)\n",
    "    return _sent_clusters, _sent_clusters_words\n",
    "\n",
    "\n"
   ],
   "metadata": {
    "collapsed": false,
    "pycharm": {
     "name": "#%%\n"
    }
   }
  },
  {
   "cell_type": "code",
   "execution_count": 12,
   "outputs": [
    {
     "data": {
      "text/plain": "([[1, 1, 2, 2, 6],\n  [1, 1, 2, 3, 4, 5],\n  [1, 1, 4],\n  [2, 3, 4, 5],\n  [1, 3],\n  [2, 5]],\n [['NSCN(K )',\n   'Naga insurgent outfit NSCN ( Khaplang ) , with which the Centre abrogated ceasefire in March',\n   'The militant outfit',\n   'it',\n   'NSCN(K )'],\n  ['Ambush on Army in Manipur',\n   'the ambush in Manipur in which 18 army personnel were killed and 10 others injured',\n   'the attack yesterday',\n   'the incident',\n   'the attack',\n   'The assault'],\n  ['Manipur', 'Manipur', 'Manipur'],\n  ['a release dated June 4 , which was circulated in the media today',\n   'The release',\n   'It',\n   'the release'],\n  ['army', 'army'],\n  ['it , Kanglei Yawol Kanna Lup and Kangleipak Communist Party',\n   'the outfits']])"
     },
     "execution_count": 12,
     "metadata": {},
     "output_type": "execute_result"
    }
   ],
   "source": [
    "test_entry = data[23]\n",
    "my_prediction(test_entry)\n"
   ],
   "metadata": {
    "collapsed": false,
    "pycharm": {
     "name": "#%%\n"
    }
   }
  },
  {
   "cell_type": "code",
   "execution_count": 13,
   "outputs": [
    {
     "name": "stdout",
     "output_type": "stream",
     "text": [
      "1\tNSCN\tNSCN\tPROPN\tNNP\tNumber=Sing\t5\tnsubj\t_\tstart_char=0|end_char=4\n",
      "2\t(\t(\tPUNCT\t-LRB-\t_\t3\tpunct\t_\tstart_char=4|end_char=5\n",
      "3\tK\tk\tNUM\tLS\t_\t5\tnummod\t_\tstart_char=5|end_char=6\n",
      "4\t)\t)\tPUNCT\t-RRB-\t_\t3\tpunct\t_\tstart_char=6|end_char=7\n",
      "5\tClaims\tclaim\tVERB\tVBZ\tMood=Ind|Number=Sing|Person=3|Tense=Pres|VerbForm=Fin\t0\troot\t_\tstart_char=8|end_char=14\n",
      "6\tResponsibility\tresponsibility\tNOUN\tNN\tNumber=Sing\t5\tobj\t_\tstart_char=15|end_char=29\n",
      "7\tfor\tfor\tADP\tIN\t_\t8\tcase\t_\tstart_char=30|end_char=33\n",
      "8\tAmbush\tAmbush\tPROPN\tNNP\tNumber=Sing\t6\tnmod\t_\tstart_char=34|end_char=40\n",
      "9\ton\ton\tADP\tIN\t_\t10\tcase\t_\tstart_char=41|end_char=43\n",
      "10\tArmy\tArmy\tPROPN\tNNP\tNumber=Sing\t8\tnmod\t_\tstart_char=44|end_char=48\n",
      "11\tin\tin\tADP\tIN\t_\t12\tcase\t_\tstart_char=49|end_char=51\n",
      "12\tManipur\tManipur\tPROPN\tNNP\tNumber=Sing\t6\tnmod\t_\tstart_char=52|end_char=59\n",
      "13\t05th\t05th\tNUM\tCD\tNumType=Card\t14\tnummod\t_\tstart_char=60|end_char=64\n",
      "14\tJune\tJune\tPROPN\tNNP\tNumber=Sing\t12\tcompound\t_\tstart_char=65|end_char=69\n",
      "15\t2015\t2015\tNUM\tCD\tNumType=Card\t14\tnummod\t_\tstart_char=70|end_char=74\n",
      "16\t03:41\t03:41\tNUM\tCD\tNumType=Card\t17\tnummod\t_\tstart_char=75|end_char=80\n",
      "17\tPM\tpm\tNOUN\tNN\tNumber=Sing\t14\tappos\t_\tstart_char=81|end_char=83\n",
      "18\tGUWAHATI\tGUWAHATI\tPROPN\tNNP\tNumber=Sing\t14\tappos\t_\tstart_char=84|end_char=92\n",
      "19\t/\t/\tSYM\t,\t_\t20\tcc\t_\tstart_char=93|end_char=94\n",
      "20\tKOHIMA\tKOHIMA\tPROPN\tNNP\tNumber=Sing\t18\tappos\t_\tstart_char=95|end_char=101\n",
      "21\t:\t:\tPUNCT\t:\t_\t5\tpunct\t_\tstart_char=102|end_char=103\n",
      "22\tNaga\tNaga\tPROPN\tNNP\tNumber=Sing\t24\tcompound\t_\tstart_char=104|end_char=108\n",
      "23\tinsurgent\tinsurgent\tADJ\tJJ\tDegree=Pos\t24\tamod\t_\tstart_char=109|end_char=118\n",
      "24\toutfit\toutfit\tNOUN\tNN\tNumber=Sing\t40\tnsubj\t_\tstart_char=119|end_char=125\n",
      "25\tNSCN\tNSCN\tPROPN\tNNP\tNumber=Sing\t24\tappos\t_\tstart_char=126|end_char=130\n",
      "26\t(\t(\tPUNCT\t-LRB-\t_\t27\tpunct\t_\tstart_char=131|end_char=132\n",
      "27\tKhaplang\tKhaplang\tPROPN\tNNP\tNumber=Sing\t24\tappos\t_\tstart_char=133|end_char=141\n",
      "28\t)\t)\tPUNCT\t-RRB-\t_\t27\tpunct\t_\tstart_char=142|end_char=143\n",
      "29\t,\t,\tPUNCT\t,\t_\t24\tpunct\t_\tstart_char=144|end_char=145\n",
      "30\twith\twith\tADP\tIN\t_\t31\tcase\t_\tstart_char=146|end_char=150\n",
      "31\twhich\twhich\tPRON\tWDT\tPronType=Rel\t34\tobl\t_\tstart_char=151|end_char=156\n",
      "32\tthe\tthe\tDET\tDT\tDefinite=Def|PronType=Art\t33\tdet\t_\tstart_char=157|end_char=160\n",
      "33\tCentre\tCentre\tPROPN\tNNP\tNumber=Sing\t34\tnsubj\t_\tstart_char=161|end_char=167\n",
      "34\tabrogated\tabrogate\tVERB\tVBD\tMood=Ind|Tense=Past|VerbForm=Fin\t24\tacl:relcl\t_\tstart_char=168|end_char=177\n",
      "35\tceasefire\tceasefire\tNOUN\tNN\tNumber=Sing\t34\tobj\t_\tstart_char=178|end_char=187\n",
      "36\tin\tin\tADP\tIN\t_\t37\tcase\t_\tstart_char=188|end_char=190\n",
      "37\tMarch\tMarch\tPROPN\tNNP\tNumber=Sing\t34\tobl\t_\tstart_char=191|end_char=196\n",
      "38\t,\t,\tPUNCT\t,\t_\t40\tpunct\t_\tstart_char=197|end_char=198\n",
      "39\thas\thave\tAUX\tVBZ\tMood=Ind|Number=Sing|Person=3|Tense=Pres|VerbForm=Fin\t40\taux\t_\tstart_char=199|end_char=202\n",
      "40\tclaimed\tclaim\tVERB\tVBN\tTense=Past|VerbForm=Part\t5\tconj\t_\tstart_char=203|end_char=210\n",
      "41\tresponsibility\tresponsibility\tNOUN\tNN\tNumber=Sing\t40\tobj\t_\tstart_char=211|end_char=225\n",
      "42\tfor\tfor\tADP\tIN\t_\t44\tcase\t_\tstart_char=226|end_char=229\n",
      "43\tthe\tthe\tDET\tDT\tDefinite=Def|PronType=Art\t44\tdet\t_\tstart_char=230|end_char=233\n",
      "44\tambush\tambush\tNOUN\tNN\tNumber=Sing\t41\tnmod\t_\tstart_char=234|end_char=240\n",
      "45\tin\tin\tADP\tIN\t_\t46\tcase\t_\tstart_char=241|end_char=243\n",
      "46\tManipur\tManipur\tPROPN\tNNP\tNumber=Sing\t44\tnmod\t_\tstart_char=244|end_char=251\n",
      "47\tin\tin\tADP\tIN\t_\t48\tcase\t_\tstart_char=252|end_char=254\n",
      "48\twhich\twhich\tPRON\tWDT\tPronType=Rel\t53\tobl\t_\tstart_char=255|end_char=260\n",
      "49\t18\t18\tNUM\tCD\tNumType=Card\t51\tnummod\t_\tstart_char=261|end_char=263\n",
      "50\tarmy\tarmy\tNOUN\tNN\tNumber=Sing\t51\tcompound\t_\tstart_char=264|end_char=268\n",
      "51\tpersonnel\tpersonnel\tNOUN\tNNS\tNumber=Plur\t53\tnsubj:pass\t_\tstart_char=269|end_char=278\n",
      "52\twere\tbe\tAUX\tVBD\tMood=Ind|Tense=Past|VerbForm=Fin\t53\taux:pass\t_\tstart_char=279|end_char=283\n",
      "53\tkilled\tkill\tVERB\tVBN\tTense=Past|VerbForm=Part|Voice=Pass\t44\tacl:relcl\t_\tstart_char=284|end_char=290\n",
      "54\tand\tand\tCCONJ\tCC\t_\t57\tcc\t_\tstart_char=291|end_char=294\n",
      "55\t10\t10\tNUM\tCD\tNumType=Card\t56\tnummod\t_\tstart_char=295|end_char=297\n",
      "56\tothers\tother\tNOUN\tNNS\tNumber=Plur\t53\tconj\t_\tstart_char=298|end_char=304\n",
      "57\tinjured\tinjure\tVERB\tVBN\tTense=Past|VerbForm=Part\t53\tconj\t_\tstart_char=305|end_char=312\n",
      "58\t.\t.\tPUNCT\t.\t_\t5\tpunct\t_\tstart_char=313|end_char=314\n",
      "\n",
      "\n",
      "1\tThe\tthe\tDET\tDT\tDefinite=Def|PronType=Art\t3\tdet\t_\tstart_char=0|end_char=3\n",
      "2\tmilitant\tmilitant\tADJ\tJJ\tDegree=Pos\t3\tamod\t_\tstart_char=4|end_char=12\n",
      "3\toutfit\toutfit\tNOUN\tNN\tNumber=Sing\t19\tnsubj\t_\tstart_char=13|end_char=19\n",
      "4\tin\tin\tADP\tIN\t_\t6\tcase\t_\tstart_char=20|end_char=22\n",
      "5\ta\ta\tDET\tDT\tDefinite=Ind|PronType=Art\t6\tdet\t_\tstart_char=23|end_char=24\n",
      "6\trelease\trelease\tNOUN\tNN\tNumber=Sing\t3\tnmod\t_\tstart_char=25|end_char=32\n",
      "7\tdated\tdate\tVERB\tVBN\tTense=Past|VerbForm=Part\t6\tacl\t_\tstart_char=33|end_char=38\n",
      "8\tJune\tJune\tPROPN\tNNP\tNumber=Sing\t7\tobl:tmod\t_\tstart_char=39|end_char=43\n",
      "9\t4\t4\tNUM\tCD\tNumType=Card\t8\tnummod\t_\tstart_char=44|end_char=45\n",
      "10\t,\t,\tPUNCT\t,\t_\t13\tpunct\t_\tstart_char=46|end_char=47\n",
      "11\twhich\twhich\tPRON\tWDT\tPronType=Rel\t13\tnsubj:pass\t_\tstart_char=48|end_char=53\n",
      "12\twas\tbe\tAUX\tVBD\tMood=Ind|Number=Sing|Person=3|Tense=Past|VerbForm=Fin\t13\taux:pass\t_\tstart_char=54|end_char=57\n",
      "13\tcirculated\tcirculate\tVERB\tVBN\tTense=Past|VerbForm=Part|Voice=Pass\t3\tacl:relcl\t_\tstart_char=58|end_char=68\n",
      "14\tin\tin\tADP\tIN\t_\t16\tcase\t_\tstart_char=69|end_char=71\n",
      "15\tthe\tthe\tDET\tDT\tDefinite=Def|PronType=Art\t16\tdet\t_\tstart_char=72|end_char=75\n",
      "16\tmedia\tmedia\tNOUN\tNN\tNumber=Sing\t13\tobl\t_\tstart_char=76|end_char=81\n",
      "17\ttoday\ttoday\tNOUN\tNN\tNumber=Sing\t13\tobl:tmod\t_\tstart_char=82|end_char=87\n",
      "18\t,\t,\tPUNCT\t,\t_\t19\tpunct\t_\tstart_char=88|end_char=89\n",
      "19\tclaimed\tclaim\tVERB\tVBD\tMood=Ind|Tense=Past|VerbForm=Fin\t0\troot\t_\tstart_char=90|end_char=97\n",
      "20\tthat\tthat\tSCONJ\tIN\t_\t27\tmark\t_\tstart_char=98|end_char=102\n",
      "21\tthe\tthe\tDET\tDT\tDefinite=Def|PronType=Art\t22\tdet\t_\tstart_char=103|end_char=106\n",
      "22\tattack\tattack\tNOUN\tNN\tNumber=Sing\t27\tnsubj\t_\tstart_char=107|end_char=113\n",
      "23\tyesterday\tyesterday\tNOUN\tNN\tNumber=Sing\t22\tnmod:tmod\t_\tstart_char=114|end_char=123\n",
      "24\twas\tbe\tAUX\tVBD\tMood=Ind|Number=Sing|Person=3|Tense=Past|VerbForm=Fin\t27\tcop\t_\tstart_char=124|end_char=127\n",
      "25\ta\ta\tDET\tDT\tDefinite=Ind|PronType=Art\t27\tdet\t_\tstart_char=128|end_char=129\n",
      "26\tjoint\tjoint\tADJ\tJJ\tDegree=Pos\t27\tamod\t_\tstart_char=130|end_char=135\n",
      "27\toperation\toperation\tNOUN\tNN\tNumber=Sing\t19\tccomp\t_\tstart_char=136|end_char=145\n",
      "28\tby\tby\tADP\tIN\t_\t29\tcase\t_\tstart_char=146|end_char=148\n",
      "29\tit\tit\tPRON\tPRP\tCase=Acc|Gender=Neut|Number=Sing|Person=3|PronType=Prs\t27\tnmod\t_\tstart_char=149|end_char=151\n",
      "30\t,\t,\tPUNCT\t,\t_\t31\tpunct\t_\tstart_char=152|end_char=153\n",
      "31\tKanglei\tKanglei\tPROPN\tNNP\tNumber=Sing\t27\tappos\t_\tstart_char=154|end_char=161\n",
      "32\tYawol\tYawol\tPROPN\tNNP\tNumber=Sing\t31\tflat\t_\tstart_char=162|end_char=167\n",
      "33\tKanna\tKanna\tPROPN\tNNP\tNumber=Sing\t31\tflat\t_\tstart_char=168|end_char=173\n",
      "34\tLup\tLup\tPROPN\tNNP\tNumber=Sing\t31\tflat\t_\tstart_char=174|end_char=177\n",
      "35\tand\tand\tCCONJ\tCC\t_\t38\tcc\t_\tstart_char=178|end_char=181\n",
      "36\tKangleipak\tKangleipak\tPROPN\tNNP\tNumber=Sing\t38\tcompound\t_\tstart_char=182|end_char=192\n",
      "37\tCommunist\tCommunist\tADJ\tNNP\tDegree=Pos\t38\tamod\t_\tstart_char=193|end_char=202\n",
      "38\tParty\tParty\tPROPN\tNNP\tNumber=Sing\t31\tconj\t_\tstart_char=203|end_char=208\n",
      "39\t.\t.\tPUNCT\t.\t_\t19\tpunct\t_\tstart_char=209|end_char=210\n",
      "\n",
      "\n",
      "1\tThe\tthe\tDET\tDT\tDefinite=Def|PronType=Art\t2\tdet\t_\tstart_char=0|end_char=3\n",
      "2\trelease\trelease\tNOUN\tNN\tNumber=Sing\t3\tnsubj\t_\tstart_char=4|end_char=11\n",
      "3\tclaimed\tclaim\tVERB\tVBD\tMood=Ind|Tense=Past|VerbForm=Fin\t0\troot\t_\tstart_char=12|end_char=19\n",
      "4\tthat\tthat\tSCONJ\tIN\t_\t16\tmark\t_\tstart_char=20|end_char=24\n",
      "5\t20\t20\tNUM\tCD\tNumType=Card\t7\tnummod\t_\tstart_char=25|end_char=27\n",
      "6\tarmy\tarmy\tNOUN\tNN\tNumber=Sing\t7\tcompound\t_\tstart_char=28|end_char=32\n",
      "7\tpersonnel\tpersonnel\tNOUN\tNNS\tNumber=Plur\t16\tnsubj:pass\t_\tstart_char=33|end_char=42\n",
      "8\t,\t,\tPUNCT\t,\t_\t7\tpunct\t_\tstart_char=43|end_char=44\n",
      "9\tincluding\tinclude\tVERB\tVBG\tVerbForm=Ger\t13\tcase\t_\tstart_char=45|end_char=54\n",
      "10\ta\ta\tDET\tDT\tDefinite=Ind|PronType=Art\t13\tdet\t_\tstart_char=55|end_char=56\n",
      "11\tjunior\tjunior\tNOUN\tNN\tNumber=Sing\t13\tcompound\t_\tstart_char=57|end_char=63\n",
      "12\tcommissioned\tcommission\tVERB\tVBN\tTense=Past|VerbForm=Part\t13\tamod\t_\tstart_char=64|end_char=76\n",
      "13\tofficer\tofficer\tNOUN\tNN\tNumber=Sing\t7\tnmod\t_\tstart_char=77|end_char=84\n",
      "14\t,\t,\tPUNCT\t,\t_\t7\tpunct\t_\tstart_char=85|end_char=86\n",
      "15\twere\tbe\tAUX\tVBD\tMood=Ind|Tense=Past|VerbForm=Fin\t16\taux:pass\t_\tstart_char=87|end_char=91\n",
      "16\tkilled\tkill\tVERB\tVBN\tTense=Past|VerbForm=Part|Voice=Pass\t3\tccomp\t_\tstart_char=92|end_char=98\n",
      "17\tand\tand\tCCONJ\tCC\t_\t19\tcc\t_\tstart_char=99|end_char=102\n",
      "18\t12\t12\tNUM\tCD\tNumType=Card\t19\tnummod\t_\tstart_char=103|end_char=105\n",
      "19\tothers\tother\tNOUN\tNNS\tNumber=Plur\t16\tconj\t_\tstart_char=106|end_char=112\n",
      "20\tinjured\tinjure\tVERB\tVBN\tTense=Past|VerbForm=Part\t19\tacl\t_\tstart_char=113|end_char=120\n",
      "21\tin\tin\tADP\tIN\t_\t23\tcase\t_\tstart_char=121|end_char=123\n",
      "22\tthe\tthe\tDET\tDT\tDefinite=Def|PronType=Art\t23\tdet\t_\tstart_char=124|end_char=127\n",
      "23\tincident\tincident\tNOUN\tNN\tNumber=Sing\t20\tobl\t_\tstart_char=128|end_char=136\n",
      "24\t.\t.\tPUNCT\t.\t_\t3\tpunct\t_\tstart_char=137|end_char=138\n",
      "\n",
      "\n",
      "1\tIt\tit\tPRON\tPRP\tCase=Nom|Gender=Neut|Number=Sing|Person=3|PronType=Prs\t2\tnsubj\t_\tstart_char=0|end_char=2\n",
      "2\tclaimed\tclaim\tVERB\tVBD\tMood=Ind|Tense=Past|VerbForm=Fin\t0\troot\t_\tstart_char=3|end_char=10\n",
      "3\tthat\tthat\tSCONJ\tIN\t_\t18\tmark\t_\tstart_char=11|end_char=15\n",
      "4\tduring\tduring\tADP\tIN\t_\t6\tcase\t_\tstart_char=16|end_char=22\n",
      "5\tthe\tthe\tDET\tDT\tDefinite=Def|PronType=Art\t6\tdet\t_\tstart_char=23|end_char=26\n",
      "6\tattack\tattack\tNOUN\tNN\tNumber=Sing\t18\tobl\t_\tstart_char=27|end_char=33\n",
      "7\ta\ta\tDET\tDT\tDefinite=Ind|PronType=Art\t11\tdet\t_\tstart_char=34|end_char=35\n",
      "8\tfive\tfive\tNUM\tCD\tNumType=Card\t10\tnummod\t_\tstart_char=36|end_char=40\n",
      "9\t-\t-\tPUNCT\tHYPH\t_\t10\tpunct\t_\tstart_char=40|end_char=41\n",
      "10\tvehicle\tvehicle\tNOUN\tNN\tNumber=Sing\t11\tcompound\t_\tstart_char=41|end_char=48\n",
      "11\tconvoy\tconvoy\tNOUN\tNN\tNumber=Sing\t18\tnsubj:pass\t_\tstart_char=49|end_char=55\n",
      "12\tof\tof\tADP\tIN\t_\t15\tcase\t_\tstart_char=56|end_char=58\n",
      "13\t6th\t6th\tADJ\tJJ\tDegree=Pos|NumType=Ord\t15\tamod\t_\tstart_char=59|end_char=62\n",
      "14\tDogra\tDogra\tPROPN\tNNP\tNumber=Sing\t15\tcompound\t_\tstart_char=63|end_char=68\n",
      "15\tRegiment\tRegiment\tPROPN\tNNP\tNumber=Sing\t11\tnmod\t_\tstart_char=69|end_char=77\n",
      "16\twas\tbe\tAUX\tVBD\tMood=Ind|Number=Sing|Person=3|Tense=Past|VerbForm=Fin\t18\taux:pass\t_\tstart_char=78|end_char=81\n",
      "17\t\"\t\"\tPUNCT\t``\t_\t18\tpunct\t_\tstart_char=82|end_char=83\n",
      "18\tassaulted\tassault\tVERB\tVBN\tTense=Past|VerbForm=Part|Voice=Pass\t2\tccomp\t_\tstart_char=84|end_char=93\n",
      "19\t\"\t\"\tPUNCT\t''\t_\t18\tpunct\t_\tstart_char=94|end_char=95\n",
      "20\tat\tat\tADP\tIN\t_\t25\tcase\t_\tstart_char=96|end_char=98\n",
      "21\tTengnoupal\tTengnoupal\tPROPN\tNNP\tNumber=Sing\t25\tcompound\t_\tstart_char=99|end_char=109\n",
      "22\t-\t-\tPUNCT\tHYPH\t_\t25\tpunct\t_\tstart_char=109|end_char=110\n",
      "23\tNew\tNew\tADJ\tNNP\tDegree=Pos\t25\tamod\t_\tstart_char=110|end_char=113\n",
      "24\tSomtal\tSomtal\tPROPN\tNNP\tNumber=Sing\t25\tcompound\t_\tstart_char=114|end_char=120\n",
      "25\tRoad\tRoad\tPROPN\tNNP\tNumber=Sing\t18\tobl\t_\tstart_char=121|end_char=125\n",
      "26\tin\tin\tADP\tIN\t_\t28\tcase\t_\tstart_char=126|end_char=128\n",
      "27\tChandel\tChandel\tPROPN\tNNP\tNumber=Sing\t28\tcompound\t_\tstart_char=129|end_char=136\n",
      "28\tdistrict\tdistrict\tNOUN\tNN\tNumber=Sing\t25\tnmod\t_\tstart_char=137|end_char=145\n",
      "29\tof\tof\tADP\tIN\t_\t30\tcase\t_\tstart_char=146|end_char=148\n",
      "30\tManipur\tManipur\tPROPN\tNNP\tNumber=Sing\t28\tnmod\t_\tstart_char=149|end_char=156\n",
      "31\t.\t.\tPUNCT\t.\t_\t2\tpunct\t_\tstart_char=157|end_char=158\n",
      "\n",
      "\n",
      "1\tThe\tthe\tDET\tDT\tDefinite=Def|PronType=Art\t2\tdet\t_\tstart_char=2|end_char=5\n",
      "2\tassault\tassault\tNOUN\tNN\tNumber=Sing\t3\tnsubj\t_\tstart_char=6|end_char=13\n",
      "3\tstarted\tstart\tVERB\tVBD\tMood=Ind|Tense=Past|VerbForm=Fin\t0\troot\t_\tstart_char=14|end_char=21\n",
      "4\taround\taround\tADV\tRB\t_\t5\tadvmod\t_\tstart_char=22|end_char=28\n",
      "5\t6\t6\tNUM\tCD\tNumType=Card\t6\tnummod\t_\tstart_char=29|end_char=30\n",
      "6\tAM\tam\tNOUN\tNN\tNumber=Sing\t3\tobl:tmod\t_\tstart_char=31|end_char=33\n",
      "7\tand\tand\tCCONJ\tCC\t_\t8\tcc\t_\tstart_char=34|end_char=37\n",
      "8\tlasted\tlast\tVERB\tVBD\tMood=Ind|Tense=Past|VerbForm=Fin\t3\tconj\t_\tstart_char=38|end_char=44\n",
      "9\ttill\ttill\tADP\tIN\t_\t13\tcase\t_\tstart_char=45|end_char=49\n",
      "10\t9\t9\tNUM\tCD\tNumType=Card\t13\tnummod\t_\tstart_char=50|end_char=51\n",
      "11\tto\tto\tADP\tIN\t_\t12\tcase\t_\tstart_char=52|end_char=54\n",
      "12\t10\t10\tNUM\tCD\tNumType=Card\t10\tnmod\t_\tstart_char=55|end_char=57\n",
      "13\tAM\tam\tNOUN\tNN\tNumber=Sing\t8\tobl\t_\tstart_char=58|end_char=60\n",
      "14\t,\t,\tPUNCT\t,\t_\t3\tpunct\t_\tstart_char=61|end_char=62\n",
      "15\t\"\t\"\tPUNCT\t''\t_\t3\tpunct\t_\tstart_char=63|end_char=64\n",
      "16\tthe\tthe\tDET\tDT\tDefinite=Def|PronType=Art\t17\tdet\t_\tstart_char=65|end_char=68\n",
      "17\trelease\trelease\tNOUN\tNN\tNumber=Sing\t18\tnsubj\t_\tstart_char=69|end_char=76\n",
      "18\tsaid\tsay\tVERB\tVBD\tMood=Ind|Tense=Past|VerbForm=Fin\t3\tparataxis\t_\tstart_char=77|end_char=81\n",
      "19\t,\t,\tPUNCT\t,\t_\t24\tpunct\t_\tstart_char=82|end_char=83\n",
      "20\tadding\tadd\tVERB\tVBG\tVerbForm=Ger\t24\tcsubj:pass\t_\tstart_char=84|end_char=90\n",
      "21\tthe\tthe\tDET\tDT\tDefinite=Def|PronType=Art\t22\tdet\t_\tstart_char=91|end_char=94\n",
      "22\toffensive\toffensive\tNOUN\tNN\tNumber=Sing\t20\tobj\t_\tstart_char=95|end_char=104\n",
      "23\twas\tbe\tAUX\tVBD\tMood=Ind|Number=Sing|Person=3|Tense=Past|VerbForm=Fin\t24\taux:pass\t_\tstart_char=105|end_char=108\n",
      "24\tlaunched\tlaunch\tVERB\tVBN\tTense=Past|VerbForm=Part|Voice=Pass\t18\tccomp\t_\tstart_char=109|end_char=117\n",
      "25\tin\tin\tADP\tIN\t_\t27\tcase\t_\tstart_char=118|end_char=120\n",
      "26\t'\t'\tPUNCT\t``\t_\t27\tpunct\t_\tstart_char=121|end_char=122\n",
      "27\tsync\tsync\tNOUN\tNN\tNumber=Sing\t24\tobl\t_\tstart_char=123|end_char=127\n",
      "28\t'\t'\tPUNCT\t''\t_\t27\tpunct\t_\tstart_char=128|end_char=129\n",
      "29\tby\tby\tADP\tIN\t_\t31\tcase\t_\tstart_char=130|end_char=132\n",
      "30\tthe\tthe\tDET\tDT\tDefinite=Def|PronType=Art\t31\tdet\t_\tstart_char=133|end_char=136\n",
      "31\toutfits\toutfit\tNOUN\tNNS\tNumber=Plur\t24\tobl\t_\tstart_char=137|end_char=144\n",
      "32\t.\t.\tPUNCT\t.\t_\t3\tpunct\t_\tstart_char=145|end_char=146\n",
      "\n",
      "\n",
      "1\tAfter\tafter\tADP\tIN\t_\t4\tcase\t_\tstart_char=0|end_char=5\n",
      "2\tthe\tthe\tDET\tDT\tDefinite=Def|PronType=Art\t4\tdet\t_\tstart_char=6|end_char=9\n",
      "3\tceasefire\tceasefire\tNOUN\tNN\tNumber=Sing\t4\tcompound\t_\tstart_char=10|end_char=19\n",
      "4\tabrogation\tabrogation\tNOUN\tNN\tNumber=Sing\t14\tobl\t_\tstart_char=20|end_char=30\n",
      "5\tin\tin\tADP\tIN\t_\t6\tcase\t_\tstart_char=31|end_char=33\n",
      "6\tMarch\tMarch\tPROPN\tNNP\tNumber=Sing\t4\tnmod\t_\tstart_char=34|end_char=39\n",
      "7\tthis\tthis\tDET\tDT\tNumber=Sing|PronType=Dem\t8\tdet\t_\tstart_char=40|end_char=44\n",
      "8\tyear\tyear\tNOUN\tNN\tNumber=Sing\t4\tnmod:tmod\t_\tstart_char=45|end_char=49\n",
      "9\t,\t,\tPUNCT\t,\t_\t14\tpunct\t_\tstart_char=50|end_char=51\n",
      "10\tNSCN\tNSCN\tPROPN\tNNP\tNumber=Sing\t14\tnsubj\t_\tstart_char=52|end_char=56\n",
      "11\t(\t(\tPUNCT\t-LRB-\t_\t12\tpunct\t_\tstart_char=56|end_char=57\n",
      "12\tK\tk\tNUM\tLS\tNumType=Card\t10\tnummod\t_\tstart_char=57|end_char=58\n",
      "13\t)\t)\tPUNCT\t-RRB-\t_\t12\tpunct\t_\tstart_char=58|end_char=59\n",
      "14\thad\thave\tVERB\tVBD\tMood=Ind|Tense=Past|VerbForm=Fin\t0\troot\t_\tstart_char=60|end_char=63\n",
      "15\ton\ton\tADP\tIN\t_\t16\tcase\t_\tstart_char=64|end_char=66\n",
      "16\tMay\tMay\tPROPN\tNNP\tNumber=Sing\t14\tobl\t_\tstart_char=67|end_char=70\n",
      "17\t3\t3\tNUM\tCD\tNumType=Card\t16\tnummod\t_\tstart_char=71|end_char=72\n",
      "18\tattacked\tattack\tVERB\tVBN\tTense=Past|VerbForm=Part\t16\tacl\t_\tstart_char=73|end_char=81\n",
      "19\tand\tand\tCCONJ\tCC\t_\t20\tcc\t_\tstart_char=82|end_char=85\n",
      "20\tkilled\tkill\tVERB\tVBD\tMood=Ind|Tense=Past|VerbForm=Fin\t14\tconj\t_\tstart_char=86|end_char=92\n",
      "21\tnine\tnine\tNUM\tCD\tNumType=Card\t24\tnummod\t_\tstart_char=93|end_char=97\n",
      "22\tAssam\tAssam\tADJ\tNNP\tDegree=Pos\t23\tamod\t_\tstart_char=98|end_char=103\n",
      "23\tRifles\tRifles\tPROPN\tNNP\tNumber=Sing\t24\tcompound\t_\tstart_char=104|end_char=110\n",
      "24\tpersonnel\tpersonnel\tNOUN\tNNS\tNumber=Plur\t20\tobj\t_\tstart_char=111|end_char=120\n",
      "25\tin\tin\tADP\tIN\t_\t27\tcase\t_\tstart_char=121|end_char=123\n",
      "26\tMon\tMonday\tPROPN\tNNP\tNumber=Sing\t27\tcompound\t_\tstart_char=124|end_char=127\n",
      "27\tdistrict\tdistrict\tNOUN\tNN\tNumber=Sing\t20\tobl\t_\tstart_char=128|end_char=136\n",
      "28\t.\t.\tPUNCT\t.\t_\t14\tpunct\t_\tstart_char=137|end_char=138\n",
      "\n",
      "\n"
     ]
    }
   ],
   "source": [],
   "metadata": {
    "collapsed": false,
    "pycharm": {
     "name": "#%%\n"
    }
   }
  }
 ],
 "metadata": {
  "kernelspec": {
   "name": "allannlp",
   "language": "python",
   "display_name": "allannlp"
  },
  "language_info": {
   "codemirror_mode": {
    "name": "ipython",
    "version": 2
   },
   "file_extension": ".py",
   "mimetype": "text/x-python",
   "name": "python",
   "nbconvert_exporter": "python",
   "pygments_lexer": "ipython2",
   "version": "2.7.6"
  }
 },
 "nbformat": 4,
 "nbformat_minor": 0
}