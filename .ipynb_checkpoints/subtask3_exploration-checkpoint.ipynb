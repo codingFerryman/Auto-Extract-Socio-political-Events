{
 "cells": [
  {
   "cell_type": "code",
   "execution_count": 1,
   "metadata": {},
   "outputs": [],
   "source": [
    "import json\n",
    "import random\n",
    "import itertools\n",
    "import pandas as pd\n",
    "import networkx as nx\n",
    "from collections import Counter, OrderedDict\n",
    "\n",
    "import matplotlib.pyplot as plt\n",
    "from pyvis.network import Network\n"
   ]
  },
  {
   "cell_type": "code",
   "execution_count": 2,
   "metadata": {
    "pycharm": {
     "name": "#%%\n"
    }
   },
   "outputs": [],
   "source": [
    "with open(\"./data/subtask3-coreference/en-train.json\") as fp:\n",
    "    entries = fp.readlines()"
   ]
  },
  {
   "cell_type": "code",
   "execution_count": 3,
   "metadata": {
    "pycharm": {
     "name": "#%%\n"
    }
   },
   "outputs": [],
   "source": [
    "data = []\n",
    "for entry in entries:\n",
    "    data.append(json.loads(entry))"
   ]
  },
  {
   "cell_type": "code",
   "execution_count": 4,
   "metadata": {
    "pycharm": {
     "name": "#%%\n"
    }
   },
   "outputs": [
    {
     "name": "stdout",
     "output_type": "stream",
     "text": [
      "Examples in the dataset:\n"
     ]
    },
    {
     "data": {
      "text/plain": [
       "[{'event_clusters': [[21], [1, 2, 13, 15, 16, 19]],\n",
       "  'sentence_no': [1, 2, 13, 15, 16, 19, 21],\n",
       "  'sentences': ['The strike at Anglo American Platinum ( Amplats ) in Rustenburg will continue , the Rustenburg strike co-ordinating committee said on Monday .',\n",
       "   '`` The strike is on .',\n",
       "   'Amplats said it had offered to reinstate all workers on the same terms and conditions of employment as applied before their illegal strike .',\n",
       "   'The company had further offered a once-off hardship allowance of R2000 to help workers deal with financial difficulties arising from the no-work , no-pay principle in place while they were striking .',\n",
       "   'Workers who did not participate in the strike would receive a once-off loyalty allowance of R2000 .',\n",
       "   'Amplats workers went on strike on September 12 , demanding a monthly salary of R16,000 .',\n",
       "   \"`` Prolonged strikes may lead to the company closing down , '' he said after a Congress of SA Trade Unions rally in Rustenburg .\"],\n",
       "  'id': 55314},\n",
       " {'event_clusters': [[1, 3, 4, 5]],\n",
       "  'sentence_no': [1, 3, 4, 5],\n",
       "  'sentences': ['Chikkamagaluru : BJP activists take out march , demand George ’ s resignation July 17 , 2016 00:00 IST Workers of the Bharatiya Janata Party ( BJP ) took out a march in Chikkamagaluru on Saturday demanding the resignation of Bengaluru Development Minister K.J. George and a CBI probe into the death of Dy.SP M.K. Ganapathy .',\n",
       "   'The protest march was taken out under the leadership of BJP State president B.S. Yeddyurappa .',\n",
       "   'Addressing the protesters , Mr. Yeddyurappa said the BJP would continue its protest until Mr. George resigned .',\n",
       "   '“ We will continue our protest seeking justice in the Dy.SP Ganapathy case .'],\n",
       "  'id': 55026},\n",
       " {'event_clusters': [[1, 2, 5]],\n",
       "  'sentence_no': [1, 2, 5],\n",
       "  'sentences': [\"Protest against Metro car shed at Charkop - Indian Express Express News Service , Express News Service : Mumbai , Thu Dec 18 2008 , 23:43 hrs Slum dwellers residing on the land allocated for the construction of a depot , which is part of the Charkop-Bandra-Mankhurd Metro Rail project , on Wednesday protested Mumbai Regional Development Authority 's ( MMRDA ) move after its officials visited the site for surveying the plot of land .\",\n",
       "   'The MMRDA officials had to flee the site after the opposition from the locals .',\n",
       "   'Despite this , if the protest continues , we will have to initiate a strong police action , \" said MMRDA Commissioner Ratnakar Gaikwad .'],\n",
       "  'id': 55613}]"
      ]
     },
     "execution_count": 4,
     "metadata": {},
     "output_type": "execute_result"
    }
   ],
   "source": [
    "print(\"Examples in the dataset:\")\n",
    "random.sample(data, 3)"
   ]
  },
  {
   "cell_type": "code",
   "execution_count": 5,
   "metadata": {
    "pycharm": {
     "name": "#%%\n"
    }
   },
   "outputs": [
    {
     "name": "stdout",
     "output_type": "stream",
     "text": [
      "Number of entries\n"
     ]
    },
    {
     "data": {
      "text/plain": [
       "596"
      ]
     },
     "execution_count": 5,
     "metadata": {},
     "output_type": "execute_result"
    }
   ],
   "source": [
    "print(\"Number of entries\")\n",
    "len(data)"
   ]
  },
  {
   "cell_type": "code",
   "execution_count": 6,
   "metadata": {
    "pycharm": {
     "name": "#%%\n"
    }
   },
   "outputs": [],
   "source": [
    "sentence_no_list = []\n",
    "event_clusters_list = []\n",
    "\n",
    "for d in data:\n",
    "    sentence_no_list += d['sentence_no']\n",
    "    event_clusters_list += d['event_clusters']"
   ]
  },
  {
   "cell_type": "code",
   "execution_count": 7,
   "metadata": {
    "pycharm": {
     "name": "#%%\n"
    }
   },
   "outputs": [
    {
     "name": "stdout",
     "output_type": "stream",
     "text": [
      "The maximum number of sentence_no: 90\n"
     ]
    }
   ],
   "source": [
    "print(\"The maximum number of sentence_no: %d\" % max(sentence_no_list))"
   ]
  },
  {
   "cell_type": "code",
   "execution_count": 8,
   "metadata": {
    "pycharm": {
     "name": "#%%\n"
    }
   },
   "outputs": [],
   "source": [
    "def get_event_clusters_comb(clusters_list, comb_elements_num):\n",
    "    \"\"\"Decompose the clusters and recompose them with at most comb_elements_num elements\n",
    "    \"\"\"\n",
    "    event_clusters_comb = []\n",
    "    for e in clusters_list:\n",
    "        if len(e) >= comb_elements_num:\n",
    "            event_clusters_comb += itertools.combinations(e, comb_elements_num)\n",
    "        else:\n",
    "            event_clusters_comb += (e,)\n",
    "\n",
    "    event_clusters_counter = Counter(map(tuple, event_clusters_comb)).most_common()\n",
    "    return event_clusters_counter"
   ]
  },
  {
   "cell_type": "code",
   "execution_count": 9,
   "metadata": {
    "pycharm": {
     "name": "#%%\n"
    }
   },
   "outputs": [
    {
     "data": {
      "text/plain": [
       "[((1,), 396),\n",
       " ((2,), 296),\n",
       " ((3,), 247),\n",
       " ((4,), 210),\n",
       " ((6,), 183),\n",
       " ((5,), 170),\n",
       " ((7,), 139),\n",
       " ((8,), 113),\n",
       " ((9,), 107),\n",
       " ((10,), 87)]"
      ]
     },
     "execution_count": 9,
     "metadata": {},
     "output_type": "execute_result"
    }
   ],
   "source": [
    "get_event_clusters_comb(event_clusters_list, 1)[:10]"
   ]
  },
  {
   "cell_type": "code",
   "execution_count": 10,
   "metadata": {
    "pycharm": {
     "name": "#%%\n"
    }
   },
   "outputs": [
    {
     "data": {
      "text/plain": [
       "[((1, 2), 218),\n",
       " ((1, 3), 155),\n",
       " ((1, 4), 128),\n",
       " ((2, 3), 123),\n",
       " ((3, 4), 98),\n",
       " ((1, 5), 96),\n",
       " ((1, 6), 91),\n",
       " ((2, 4), 88),\n",
       " ((1, 7), 72),\n",
       " ((2, 5), 69)]"
      ]
     },
     "execution_count": 10,
     "metadata": {},
     "output_type": "execute_result"
    }
   ],
   "source": [
    "get_event_clusters_comb(event_clusters_list, 2)[:10]"
   ]
  },
  {
   "cell_type": "code",
   "execution_count": 11,
   "metadata": {
    "pycharm": {
     "name": "#%%\n"
    }
   },
   "outputs": [
    {
     "data": {
      "text/plain": [
       "[((1, 2, 3), 97),\n",
       " ((1, 3, 4), 68),\n",
       " ((1, 2, 4), 66),\n",
       " ((1, 2, 5), 56),\n",
       " ((2, 3, 4), 53),\n",
       " ((1, 2, 6), 52),\n",
       " ((1, 3, 5), 51),\n",
       " ((1, 4, 5), 44),\n",
       " ((1, 3, 6), 40),\n",
       " ((2, 3, 5), 39)]"
      ]
     },
     "execution_count": 11,
     "metadata": {},
     "output_type": "execute_result"
    }
   ],
   "source": [
    "get_event_clusters_comb(event_clusters_list, 3)[:10]"
   ]
  },
  {
   "cell_type": "code",
   "execution_count": 12,
   "metadata": {
    "pycharm": {
     "name": "#%%\n"
    }
   },
   "outputs": [
    {
     "data": {
      "text/plain": [
       "[((1, 2, 3, 4), 40),\n",
       " ((6,), 38),\n",
       " ((1, 2), 36),\n",
       " ((1, 2, 3, 5), 32),\n",
       " ((1, 3, 4, 5), 29),\n",
       " ((1, 2, 3, 6), 27),\n",
       " ((3,), 26),\n",
       " ((1, 2, 4, 5), 25),\n",
       " ((2, 3, 4, 5), 23),\n",
       " ((2,), 22)]"
      ]
     },
     "execution_count": 12,
     "metadata": {},
     "output_type": "execute_result"
    }
   ],
   "source": [
    "get_event_clusters_comb(event_clusters_list, 4)[:10]"
   ]
  },
  {
   "cell_type": "code",
   "execution_count": 13,
   "metadata": {
    "pycharm": {
     "name": "#%%\n"
    }
   },
   "outputs": [
    {
     "data": {
      "text/plain": [
       "[((6,), 38),\n",
       " ((1, 2), 36),\n",
       " ((3,), 26),\n",
       " ((2,), 22),\n",
       " ((7,), 22),\n",
       " ((9,), 22),\n",
       " ((1, 2, 3), 19),\n",
       " ((5,), 18),\n",
       " ((1, 2, 3, 4, 5), 17),\n",
       " ((8,), 17)]"
      ]
     },
     "execution_count": 13,
     "metadata": {},
     "output_type": "execute_result"
    }
   ],
   "source": [
    "get_event_clusters_comb(event_clusters_list, 5)[:10]"
   ]
  },
  {
   "cell_type": "code",
   "execution_count": 14,
   "metadata": {
    "pycharm": {
     "name": "#%%\n"
    }
   },
   "outputs": [],
   "source": [
    "def get_cooccurrences(event_clusters_list, sentence_no_range=range(1,91)):\n",
    "    # occurrences = OrderedDict((sn, OrderedDict((sn, 0) for sn in sentence_no_range)) for sn in sentence_no_range)\n",
    "    results = pd.DataFrame(index=sentence_no_range, columns=sentence_no_range)\n",
    "    results = results.fillna(0)\n",
    "\n",
    "    # Find the co-occurrences:\n",
    "    for l in event_clusters_list:\n",
    "        for i in range(len(l)):\n",
    "            for item in l[:i] + l[i + 1:]:\n",
    "                # occurrences[l[i]][item] += 1\n",
    "                _tmp = results.at[l[i], item] + 1\n",
    "                results.at[l[i], item] = _tmp\n",
    "    return results"
   ]
  },
  {
   "cell_type": "code",
   "execution_count": 15,
   "metadata": {
    "pycharm": {
     "name": "#%%\n"
    }
   },
   "outputs": [
    {
     "data": {
      "text/html": [
       "<div>\n",
       "<style scoped>\n",
       "    .dataframe tbody tr th:only-of-type {\n",
       "        vertical-align: middle;\n",
       "    }\n",
       "\n",
       "    .dataframe tbody tr th {\n",
       "        vertical-align: top;\n",
       "    }\n",
       "\n",
       "    .dataframe thead th {\n",
       "        text-align: right;\n",
       "    }\n",
       "</style>\n",
       "<table border=\"1\" class=\"dataframe\">\n",
       "  <thead>\n",
       "    <tr style=\"text-align: right;\">\n",
       "      <th></th>\n",
       "      <th>1</th>\n",
       "      <th>2</th>\n",
       "      <th>3</th>\n",
       "      <th>4</th>\n",
       "      <th>5</th>\n",
       "      <th>6</th>\n",
       "      <th>7</th>\n",
       "      <th>8</th>\n",
       "      <th>9</th>\n",
       "      <th>10</th>\n",
       "      <th>...</th>\n",
       "      <th>81</th>\n",
       "      <th>82</th>\n",
       "      <th>83</th>\n",
       "      <th>84</th>\n",
       "      <th>85</th>\n",
       "      <th>86</th>\n",
       "      <th>87</th>\n",
       "      <th>88</th>\n",
       "      <th>89</th>\n",
       "      <th>90</th>\n",
       "    </tr>\n",
       "  </thead>\n",
       "  <tbody>\n",
       "    <tr>\n",
       "      <th>1</th>\n",
       "      <td>0</td>\n",
       "      <td>218</td>\n",
       "      <td>155</td>\n",
       "      <td>128</td>\n",
       "      <td>96</td>\n",
       "      <td>91</td>\n",
       "      <td>72</td>\n",
       "      <td>57</td>\n",
       "      <td>48</td>\n",
       "      <td>40</td>\n",
       "      <td>...</td>\n",
       "      <td>0</td>\n",
       "      <td>0</td>\n",
       "      <td>0</td>\n",
       "      <td>0</td>\n",
       "      <td>0</td>\n",
       "      <td>0</td>\n",
       "      <td>0</td>\n",
       "      <td>0</td>\n",
       "      <td>0</td>\n",
       "      <td>0</td>\n",
       "    </tr>\n",
       "    <tr>\n",
       "      <th>2</th>\n",
       "      <td>218</td>\n",
       "      <td>0</td>\n",
       "      <td>123</td>\n",
       "      <td>88</td>\n",
       "      <td>69</td>\n",
       "      <td>65</td>\n",
       "      <td>42</td>\n",
       "      <td>41</td>\n",
       "      <td>32</td>\n",
       "      <td>32</td>\n",
       "      <td>...</td>\n",
       "      <td>1</td>\n",
       "      <td>0</td>\n",
       "      <td>0</td>\n",
       "      <td>0</td>\n",
       "      <td>0</td>\n",
       "      <td>0</td>\n",
       "      <td>0</td>\n",
       "      <td>0</td>\n",
       "      <td>0</td>\n",
       "      <td>1</td>\n",
       "    </tr>\n",
       "    <tr>\n",
       "      <th>3</th>\n",
       "      <td>155</td>\n",
       "      <td>123</td>\n",
       "      <td>0</td>\n",
       "      <td>98</td>\n",
       "      <td>68</td>\n",
       "      <td>52</td>\n",
       "      <td>35</td>\n",
       "      <td>27</td>\n",
       "      <td>26</td>\n",
       "      <td>23</td>\n",
       "      <td>...</td>\n",
       "      <td>0</td>\n",
       "      <td>0</td>\n",
       "      <td>0</td>\n",
       "      <td>0</td>\n",
       "      <td>0</td>\n",
       "      <td>0</td>\n",
       "      <td>0</td>\n",
       "      <td>0</td>\n",
       "      <td>0</td>\n",
       "      <td>0</td>\n",
       "    </tr>\n",
       "    <tr>\n",
       "      <th>4</th>\n",
       "      <td>128</td>\n",
       "      <td>88</td>\n",
       "      <td>98</td>\n",
       "      <td>0</td>\n",
       "      <td>65</td>\n",
       "      <td>51</td>\n",
       "      <td>29</td>\n",
       "      <td>31</td>\n",
       "      <td>31</td>\n",
       "      <td>23</td>\n",
       "      <td>...</td>\n",
       "      <td>1</td>\n",
       "      <td>0</td>\n",
       "      <td>0</td>\n",
       "      <td>0</td>\n",
       "      <td>0</td>\n",
       "      <td>0</td>\n",
       "      <td>0</td>\n",
       "      <td>0</td>\n",
       "      <td>0</td>\n",
       "      <td>1</td>\n",
       "    </tr>\n",
       "    <tr>\n",
       "      <th>5</th>\n",
       "      <td>96</td>\n",
       "      <td>69</td>\n",
       "      <td>68</td>\n",
       "      <td>65</td>\n",
       "      <td>0</td>\n",
       "      <td>43</td>\n",
       "      <td>21</td>\n",
       "      <td>24</td>\n",
       "      <td>20</td>\n",
       "      <td>16</td>\n",
       "      <td>...</td>\n",
       "      <td>0</td>\n",
       "      <td>0</td>\n",
       "      <td>0</td>\n",
       "      <td>0</td>\n",
       "      <td>0</td>\n",
       "      <td>0</td>\n",
       "      <td>0</td>\n",
       "      <td>0</td>\n",
       "      <td>0</td>\n",
       "      <td>0</td>\n",
       "    </tr>\n",
       "  </tbody>\n",
       "</table>\n",
       "<p>5 rows × 90 columns</p>\n",
       "</div>"
      ],
      "text/plain": [
       "    1    2    3    4   5   6   7   8   9   10  ...  81  82  83  84  85  86  \\\n",
       "1    0  218  155  128  96  91  72  57  48  40  ...   0   0   0   0   0   0   \n",
       "2  218    0  123   88  69  65  42  41  32  32  ...   1   0   0   0   0   0   \n",
       "3  155  123    0   98  68  52  35  27  26  23  ...   0   0   0   0   0   0   \n",
       "4  128   88   98    0  65  51  29  31  31  23  ...   1   0   0   0   0   0   \n",
       "5   96   69   68   65   0  43  21  24  20  16  ...   0   0   0   0   0   0   \n",
       "\n",
       "   87  88  89  90  \n",
       "1   0   0   0   0  \n",
       "2   0   0   0   1  \n",
       "3   0   0   0   0  \n",
       "4   0   0   0   1  \n",
       "5   0   0   0   0  \n",
       "\n",
       "[5 rows x 90 columns]"
      ]
     },
     "execution_count": 15,
     "metadata": {},
     "output_type": "execute_result"
    }
   ],
   "source": [
    "cooccurrence_df = get_cooccurrences(event_clusters_list)\n",
    "cooccurrence_df.head()"
   ]
  },
  {
   "cell_type": "code",
   "execution_count": 64,
   "metadata": {
    "pycharm": {
     "name": "#%%\n"
    }
   },
   "outputs": [],
   "source": [
    "# Find if there are some events always alone (have no connection with others)\n",
    "occur_alone = cooccurrence_df[cooccurrence_df==0].dropna().index.to_list()\n"
   ]
  },
  {
   "cell_type": "code",
   "execution_count": 17,
   "metadata": {
    "pycharm": {
     "name": "#%%\n"
    }
   },
   "outputs": [],
   "source": [
    "bi_comb = get_event_clusters_comb(event_clusters_list, 2)\n",
    "bi_comb_dict = dict(bi_comb)\n",
    "for k in occur_alone:\n",
    "    bi_comb_dict.pop(k, None)"
   ]
  },
  {
   "cell_type": "code",
   "execution_count": 36,
   "metadata": {
    "pycharm": {
     "name": "#%%\n"
    }
   },
   "outputs": [],
   "source": [
    "# Create network plot\n",
    "G = nx.Graph()\n",
    "\n",
    "# Create connections between nodes\n",
    "for k, v in bi_comb_dict.items():\n",
    "    if len(k) >= 2 and v > 0:\n",
    "        G.add_edge(k[0], k[1], weight=(v * 20))\n"
   ]
  },
  {
   "cell_type": "code",
   "execution_count": 37,
   "metadata": {
    "pycharm": {
     "name": "#%%\n"
    }
   },
   "outputs": [],
   "source": [
    "g = Network(height=800, width=800, notebook=True)\n",
    "# g.toggle_hide_edges_on_drag(True)\n",
    "g.barnes_hut()\n",
    "g.from_nx(G)\n",
    "g.save_graph(\"subtask3_event_clusters.html\")\n"
   ]
  },
  {
   "cell_type": "code",
   "execution_count": 38,
   "metadata": {
    "pycharm": {
     "name": "#%%\n"
    }
   },
   "outputs": [
    {
     "data": {
      "text/html": [
       "\n",
       "        <iframe\n",
       "            width=\"900\"\n",
       "            height=\"900\"\n",
       "            src=\"subtask3_event_clusters.html\"\n",
       "            frameborder=\"0\"\n",
       "            allowfullscreen\n",
       "        ></iframe>\n",
       "        "
      ],
      "text/plain": [
       "<IPython.lib.display.IFrame at 0x7f9f53ee4f10>"
      ]
     },
     "execution_count": 38,
     "metadata": {},
     "output_type": "execute_result"
    }
   ],
   "source": [
    "# Does not work in PyCharm, but should work in a native browser\n",
    "from IPython.display import IFrame\n",
    "\n",
    "IFrame(\"subtask3_event_clusters.html\", width=900, height=900)"
   ]
  },
  {
   "cell_type": "code",
   "execution_count": 67,
   "metadata": {
    "pycharm": {
     "name": "#%%\n"
    }
   },
   "outputs": [],
   "source": [
    "supplement_alone = [[85,86,87], [57,64]]\n",
    "for sp in supplement_alone:\n",
    "    occur_alone += sp\n",
    "    occur_alone = list(set(occur_alone))"
   ]
  },
  {
   "cell_type": "markdown",
   "metadata": {
    "pycharm": {
     "name": "#%% md\n"
    }
   },
   "source": [
    "# TF-IDF analysis"
   ]
  },
  {
   "cell_type": "code",
   "execution_count": 72,
   "metadata": {
    "pycharm": {
     "name": "#%%\n"
    }
   },
   "outputs": [],
   "source": [
    "from sklearn.feature_extraction.text import TfidfVectorizer\n",
    "from sklearn.decomposition import TruncatedSVD\n",
    "from sklearn.pipeline import Pipeline"
   ]
  },
  {
   "cell_type": "code",
   "execution_count": 80,
   "metadata": {
    "pycharm": {
     "name": "#%%\n"
    }
   },
   "outputs": [
    {
     "data": {
      "text/plain": [
       "<3x262 sparse matrix of type '<class 'numpy.float64'>'\n",
       "\twith 272 stored elements in Compressed Sparse Row format>"
      ]
     },
     "execution_count": 80,
     "metadata": {},
     "output_type": "execute_result"
    }
   ],
   "source": [
    "corpus = [\n",
    "    \"Rs 2,200 cr Transactions Hit as Staff Strike Shuts Banks Across the State 19th December 2013 11:20 AM Cheque transactions worth more than ` 2,200 crore were hit as more than 1,400 bank branches remained closed as bank employees went on a day-long strike to protest against banking sector reforms and non-implementation of wage revision for more than a year .\",\n",
    "    \"Two die in land invasion scuffles in Rus-ter-vaal , south of Joburg ANA Reporter JOHANNESBURG , 10 April ( ANA ) - Emfuleni Local Municipality in Gauteng has said that it regrets the loss of life following incidents of violence in Rus-ter-vaal earlier on Wednesday morning in which two people died in alleged clashes between security agency the Red Ants and land invaders in the area .\",\"People invaded the land in Rus-ter-vaal in the previous weeks and the Emfuleni Municipality had obtained a court order to evict them .\"\n",
    "]\n",
    "vectorizer = TfidfVectorizer(stop_words='english',ngram_range=(1, 3))\n",
    "X = vectorizer.fit_transform(corpus)\n",
    "X"
   ]
  },
  {
   "cell_type": "code",
   "execution_count": 82,
   "metadata": {},
   "outputs": [],
   "source": [
    "truncat = TruncatedSVD(n_components = 100)"
   ]
  },
  {
   "cell_type": "code",
   "execution_count": 84,
   "metadata": {},
   "outputs": [],
   "source": [
    "TR = truncat.fit(X)"
   ]
  },
  {
   "cell_type": "code",
   "execution_count": 85,
   "metadata": {},
   "outputs": [
    {
     "data": {
      "text/plain": [
       "TruncatedSVD(n_components=100)"
      ]
     },
     "execution_count": 85,
     "metadata": {},
     "output_type": "execute_result"
    }
   ],
   "source": [
    "TR."
   ]
  },
  {
   "cell_type": "code",
   "execution_count": 73,
   "metadata": {
    "pycharm": {
     "name": "#%%\n"
    }
   },
   "outputs": [],
   "source": [
    "\n",
    "text_encoder = Pipeline([\n",
    "    ('Text-TF-IDF', TfidfVectorizer(ngram_range=(1, 3))),\n",
    "    ('Text-SVD', TruncatedSVD(n_components = 100))], verbose=True)"
   ]
  },
  {
   "cell_type": "markdown",
   "metadata": {
    "pycharm": {
     "name": "#%% md\n"
    }
   },
   "source": [
    "# Span analysis"
   ]
  },
  {
   "cell_type": "code",
   "execution_count": 39,
   "metadata": {
    "pycharm": {
     "name": "#%%\n"
    }
   },
   "outputs": [
    {
     "data": {
      "application/vnd.jupyter.widget-view+json": {
       "model_id": "7a8b9b957cb944b3a0b473d0d634975f",
       "version_major": 2,
       "version_minor": 0
      },
      "text/plain": [
       "Downloading:   0%|          | 0.00/413 [00:00<?, ?B/s]"
      ]
     },
     "metadata": {},
     "output_type": "display_data"
    },
    {
     "data": {
      "application/vnd.jupyter.widget-view+json": {
       "model_id": "e51b2c7483b041c693c2403fd8b5b372",
       "version_major": 2,
       "version_minor": 0
      },
      "text/plain": [
       "Downloading:   0%|          | 0.00/213k [00:00<?, ?B/s]"
      ]
     },
     "metadata": {},
     "output_type": "display_data"
    },
    {
     "data": {
      "application/vnd.jupyter.widget-view+json": {
       "model_id": "809918f05fa7479b83d9c171b9fc3356",
       "version_major": 2,
       "version_minor": 0
      },
      "text/plain": [
       "Downloading:   0%|          | 0.00/215M [00:00<?, ?B/s]"
      ]
     },
     "metadata": {},
     "output_type": "display_data"
    },
    {
     "name": "stderr",
     "output_type": "stream",
     "text": [
      "Some weights of BertModel were not initialized from the model checkpoint at SpanBERT/spanbert-base-cased and are newly initialized: ['bert.pooler.dense.bias', 'bert.pooler.dense.weight']\n",
      "You should probably TRAIN this model on a down-stream task to be able to use it for predictions and inference.\n"
     ]
    }
   ],
   "source": [
    "from transformers import AutoTokenizer, AutoModel\n",
    "\n",
    "tokenizer = AutoTokenizer.from_pretrained(\"SpanBERT/spanbert-base-cased\")\n",
    "\n",
    "model = AutoModel.from_pretrained(\"SpanBERT/spanbert-base-cased\")"
   ]
  },
  {
   "cell_type": "code",
   "execution_count": 49,
   "metadata": {
    "pycharm": {
     "name": "#%%\n"
    }
   },
   "outputs": [],
   "source": [
    "tl = [\"MC officials beat hasty retreat as mob attacks team - Indian Express Express News Service , Express News Service : Kharar , Wed Mar 18 2009 , 03:33 hrs Officials of the Kharar Municipal Council , on an anti-encroachment drive at Santemajra village , had to duck for cover following a fierce attack by residents on Tuesday evening .\",\"A team of around a dozen enforcement staffers , led by Assistant Municipal Engineer Baldev Raj Verma , had gone to free prime MC land ( measuring 4 acres and worth Rs 100 crore ) when a mob of around 150 encroachers pounced on them , forcing them to flee in a bid to save their lives .\",\"A couple of months ago , MC staffers had to retreat after a mob attacked them in Fatehullapur village , Verma told Newsline .\",\"When they failed to comply , a team of MC officials was dispatched to serve a final notice which came under attack by the mob .\"]\n",
    "t = \"\\n\".join(tl)"
   ]
  },
  {
   "cell_type": "code",
   "execution_count": 54,
   "metadata": {
    "pycharm": {
     "name": "#%%\n"
    }
   },
   "outputs": [],
   "source": [
    "t_tokenized = tokenizer(t)"
   ]
  },
  {
   "cell_type": "code",
   "execution_count": 68,
   "metadata": {
    "pycharm": {
     "name": "#%%\n"
    }
   },
   "outputs": [],
   "source": [
    "# sentence_no_not_alone\n",
    "sentence_no_new = list(set(sentence_no_list) - set(occur_alone))"
   ]
  },
  {
   "cell_type": "code",
   "execution_count": 73,
   "metadata": {
    "pycharm": {
     "name": "#%%\n"
    }
   },
   "outputs": [],
   "source": []
  },
  {
   "cell_type": "code",
   "execution_count": null,
   "metadata": {
    "pycharm": {
     "name": "#%%\n"
    }
   },
   "outputs": [],
   "source": []
  }
 ],
 "metadata": {
  "kernelspec": {
   "display_name": "Python 3",
   "language": "python",
   "name": "python3"
  },
  "language_info": {
   "codemirror_mode": {
    "name": "ipython",
    "version": 3
   },
   "file_extension": ".py",
   "mimetype": "text/x-python",
   "name": "python",
   "nbconvert_exporter": "python",
   "pygments_lexer": "ipython3",
   "version": "3.8.10"
  }
 },
 "nbformat": 4,
 "nbformat_minor": 1
}
